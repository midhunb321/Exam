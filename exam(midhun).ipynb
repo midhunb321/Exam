{
  "nbformat": 4,
  "nbformat_minor": 0,
  "metadata": {
    "colab": {
      "provenance": []
    },
    "kernelspec": {
      "name": "python3",
      "display_name": "Python 3"
    },
    "language_info": {
      "name": "python"
    }
  },
  "cells": [
    {
      "cell_type": "code",
      "source": [
        "import pandas as pd\n"
      ],
      "metadata": {
        "id": "pXlYOr9V-oc0"
      },
      "execution_count": 54,
      "outputs": []
    },
    {
      "cell_type": "code",
      "source": [
        "df=pd.read_csv('/content/Obesity.csv')"
      ],
      "metadata": {
        "id": "d6_-sWn8_Gtn"
      },
      "execution_count": 53,
      "outputs": []
    },
    {
      "cell_type": "code",
      "source": [
        "print(data.columns)\n",
        "\n"
      ],
      "metadata": {
        "colab": {
          "base_uri": "https://localhost:8080/"
        },
        "id": "sgA2e8fx_OVQ",
        "outputId": "05993073-e8b7-4922-ee86-f20e08c046e1"
      },
      "execution_count": 52,
      "outputs": [
        {
          "output_type": "stream",
          "name": "stdout",
          "text": [
            "Index(['Gender', 'Age', 'Height', 'Weight', 'family_history_with_overweight',\n",
            "       'FAVC', 'FCVC', 'NCP', 'CAEC', 'SMOKE', 'CH2O', 'SCC', 'FAF', 'TUE',\n",
            "       'CALC', 'MTRANS', 'NObeyesdad'],\n",
            "      dtype='object')\n"
          ]
        }
      ]
    },
    {
      "cell_type": "code",
      "source": [
        "from sklearn.preprocessing import LabelEncoder\n",
        "\n",
        "le = LabelEncoder()\n",
        "y_train_encoded = le.fit_transform(y_train)\n",
        "y_test_encoded = le.transform(y_test)\n",
        "\n",
        "clf.fit(X_train, y_train_encoded)\n",
        "\n",
        "y_pred = clf.predict(X_test)\n",
        "\n",
        "y_pred_original = le.inverse_transform(y_pred)\n",
        "\n"
      ],
      "metadata": {
        "id": "DKlM7gl5CDmp"
      },
      "execution_count": 55,
      "outputs": []
    },
    {
      "cell_type": "code",
      "source": [
        "#importing the libraries needed\n",
        "import pandas as pd\n",
        "from sklearn.model_selection import train_test_split\n",
        "from sklearn.preprocessing import StandardScaler, OneHotEncoder, LabelEncoder\n",
        "from sklearn.compose import ColumnTransformer\n",
        "from sklearn.pipeline import Pipeline\n",
        "from sklearn.ensemble import RandomForestClassifier\n",
        "from xgboost import XGBClassifier\n",
        "from sklearn.metrics import classification_report, confusion_matrix\n",
        "\n",
        "#reading the data\n",
        "data = pd.read_csv(\"/content/Obesity.csv\")\n",
        "#Features and Target Variable\n",
        "X = data.drop('NObeyesdad', axis=1)\n",
        "y = data['NObeyesdad']\n",
        "\n",
        "#Defining Categorical and Numerical Features\n",
        "categorical_features = ['Gender', 'family_history_with_overweight', 'FAVC', 'CAEC', 'SMOKE', 'SCC', 'CALC', 'MTRANS']\n",
        "numerical_features = ['Age', 'Height', 'Weight', 'FCVC', 'NCP', 'CH2O', 'FAF', 'TUE']\n",
        "\n",
        "#two pipelines for preprocessing have been developed\n",
        "#one for numerical features (scaling them using StandardScaler) and one for categorical features (encoding them using OneHotEncoder).\n",
        "# Then, we combine these pipelines using ColumnTransformer.\n",
        "\n",
        "\n",
        "numeric_transformer = Pipeline(steps=[\n",
        "    ('scaler', StandardScaler())])\n",
        "\n",
        "categorical_transformer = Pipeline(steps=[\n",
        "    ('onehot', OneHotEncoder(handle_unknown='ignore'))])\n",
        "\n",
        "preprocessor = ColumnTransformer(\n",
        "    transformers=[\n",
        "        ('num', numeric_transformer, numerical_features),\n",
        "        ('cat', categorical_transformer, categorical_features)])\n",
        "\n",
        "#Constructing the Model Pipeline:\n",
        "clf = Pipeline(steps=[('preprocessor', preprocessor),\n",
        "                      ('classifier', XGBClassifier())])\n",
        "#Splitting Data into Train and Test Sets\n",
        "X_train, X_test, y_train, y_test = train_test_split(X, y, test_size=0.2, random_state=42)\n",
        "\n",
        "#Encoding Target Variable:\n",
        "le = LabelEncoder()\n",
        "y_train_encoded = le.fit_transform(y_train)\n",
        "y_test_encoded = le.transform(y_test)\n",
        "\n",
        "#Fitting the Model\n",
        "clf.fit(X_train, y_train_encoded)\n",
        "#Making Predictions\n",
        "y_pred = clf.predict(X_test)\n",
        "\n",
        "#nverse Transforming Predictions\n",
        "y_pred_original = le.inverse_transform(y_pred)\n",
        "\n",
        "#Printing Confusion Matrix and Classification Report\n",
        "print(\"Confusion Matrix:\\n\", confusion_matrix(y_test, y_pred_original))\n",
        "print(\"\\nClassification Report:\\n\", classification_report(y_test, y_pred_original))\n"
      ],
      "metadata": {
        "colab": {
          "base_uri": "https://localhost:8080/"
        },
        "id": "TQcpwgWNCKxo",
        "outputId": "ee8f3269-7e0b-4db2-f161-2def88358f40"
      },
      "execution_count": 56,
      "outputs": [
        {
          "output_type": "stream",
          "name": "stdout",
          "text": [
            "Confusion Matrix:\n",
            " [[55  1  0  0  0  0  0]\n",
            " [ 5 51  0  0  0  6  0]\n",
            " [ 0  0 75  2  0  1  0]\n",
            " [ 0  0  2 56  0  0  0]\n",
            " [ 0  0  0  0 63  0  0]\n",
            " [ 0  2  0  0  0 54  0]\n",
            " [ 0  0  0  0  0  2 48]]\n",
            "\n",
            "Classification Report:\n",
            "                      precision    recall  f1-score   support\n",
            "\n",
            "Insufficient_Weight       0.92      0.98      0.95        56\n",
            "      Normal_Weight       0.94      0.82      0.88        62\n",
            "     Obesity_Type_I       0.97      0.96      0.97        78\n",
            "    Obesity_Type_II       0.97      0.97      0.97        58\n",
            "   Obesity_Type_III       1.00      1.00      1.00        63\n",
            " Overweight_Level_I       0.86      0.96      0.91        56\n",
            "Overweight_Level_II       1.00      0.96      0.98        50\n",
            "\n",
            "           accuracy                           0.95       423\n",
            "          macro avg       0.95      0.95      0.95       423\n",
            "       weighted avg       0.95      0.95      0.95       423\n",
            "\n"
          ]
        }
      ]
    },
    {
      "cell_type": "markdown",
      "source": [
        "Checking if the model is working fine or not"
      ],
      "metadata": {
        "id": "TSIfTvY_EC4Y"
      }
    },
    {
      "cell_type": "code",
      "source": [
        "from sklearn.metrics import accuracy_score\n",
        "\n",
        "# Confusion Matrix\n",
        "print(\"Confusion Matrix:\\n\", confusion_matrix(y_test, y_pred_original))\n",
        "\n",
        "# Classification Report\n",
        "print(\"\\nClassification Report:\\n\", classification_report(y_test, y_pred_original))\n",
        "\n",
        "# Accuracy Score\n",
        "accuracy = accuracy_score(y_test, y_pred_original)\n",
        "print(\"\\nAccuracy:\", accuracy)\n",
        "\n",
        "#visualization\n",
        "import seaborn as sns\n",
        "import matplotlib.pyplot as plt\n",
        "\n",
        "sns.heatmap(confusion_matrix(y_test, y_pred_original), annot=True, fmt=\"d\", cmap=\"YlGnBu\")\n",
        "plt.xlabel(\"Predicted\")\n",
        "plt.ylabel(\"Actual\")\n",
        "plt.title(\"Confusion Matrix\")\n",
        "plt.show()\n"
      ],
      "metadata": {
        "colab": {
          "base_uri": "https://localhost:8080/",
          "height": 944
        },
        "id": "ETr1-5IBC07i",
        "outputId": "07f5d23f-d08b-4a57-b973-8911a4d4eb8f"
      },
      "execution_count": 45,
      "outputs": [
        {
          "output_type": "stream",
          "name": "stdout",
          "text": [
            "Confusion Matrix:\n",
            " [[55  1  0  0  0  0  0]\n",
            " [ 5 51  0  0  0  6  0]\n",
            " [ 0  0 75  2  0  1  0]\n",
            " [ 0  0  2 56  0  0  0]\n",
            " [ 0  0  0  0 63  0  0]\n",
            " [ 0  2  0  0  0 54  0]\n",
            " [ 0  0  0  0  0  2 48]]\n",
            "\n",
            "Classification Report:\n",
            "                      precision    recall  f1-score   support\n",
            "\n",
            "Insufficient_Weight       0.92      0.98      0.95        56\n",
            "      Normal_Weight       0.94      0.82      0.88        62\n",
            "     Obesity_Type_I       0.97      0.96      0.97        78\n",
            "    Obesity_Type_II       0.97      0.97      0.97        58\n",
            "   Obesity_Type_III       1.00      1.00      1.00        63\n",
            " Overweight_Level_I       0.86      0.96      0.91        56\n",
            "Overweight_Level_II       1.00      0.96      0.98        50\n",
            "\n",
            "           accuracy                           0.95       423\n",
            "          macro avg       0.95      0.95      0.95       423\n",
            "       weighted avg       0.95      0.95      0.95       423\n",
            "\n",
            "\n",
            "Accuracy: 0.950354609929078\n"
          ]
        },
        {
          "output_type": "display_data",
          "data": {
            "text/plain": [
              "<Figure size 640x480 with 2 Axes>"
            ],
            "image/png": "[encoded data removed]"
          },
          "metadata": {}
        }
      ]
    },
    {
      "cell_type": "markdown",
      "source": [
        "predicting output by giving random input for checking the model"
      ],
      "metadata": {
        "id": "V9PeDAuhELsD"
      }
    },
    {
      "cell_type": "code",
      "source": [
        "#Importing numpy\n",
        "import numpy as np\n",
        "\n",
        "#Generating Random Data\n",
        "random_data = {\n",
        "    'Gender': np.random.choice(['Female', 'Male']),\n",
        "    'Age': np.random.randint(18, 70),\n",
        "    'Height': np.random.randint(140, 210),\n",
        "    'Weight': np.random.randint(40, 150),\n",
        "    'family_history_with_overweight': np.random.choice(['yes', 'no']),\n",
        "    'FAVC': np.random.choice(['yes', 'no']),\n",
        "    'FCVC': np.random.rand(),\n",
        "    'NCP': np.random.randint(1, 7),\n",
        "    'CAEC': np.random.choice(['no', 'Sometimes', 'Frequently', 'Always']),\n",
        "    'SMOKE': np.random.choice(['yes', 'no']),\n",
        "    'CH2O': np.random.rand() * 2 + 1,  #  normal water intake ranges from 1 to 3 liters\n",
        "    'SCC': np.random.choice(['yes', 'no']),\n",
        "    'FAF': np.random.randint(0, 24),\n",
        "    'TUE': np.random.randint(0, 24),\n",
        "    'CALC': np.random.choice(['no', 'Sometimes', 'Frequently', 'Always']),\n",
        "    'MTRANS': np.random.choice(['Automobile', 'Motorbike', 'Bike', 'Public_Transportation', 'Walking'])\n",
        "}\n",
        "#Creating a DataFrame from Random Data\n",
        "random_df = pd.DataFrame([random_data])\n",
        "\n",
        "#Predicting Weight Category:\n",
        "predicted_category = clf.predict(random_df)\n",
        "\n",
        "#Inverse Transforming Predictions:\n",
        "predicted_category_original = le.inverse_transform(predicted_category)\n",
        "#Printing Random Data and Predicted Weight Category\n",
        "print(\"Random Data:\")\n",
        "print(random_df)\n",
        "print(\"\\nPredicted Weight Category:\", predicted_category_original[0])\n"
      ],
      "metadata": {
        "colab": {
          "base_uri": "https://localhost:8080/"
        },
        "id": "sTB7R7dsDUO4",
        "outputId": "6b41ea32-cd6c-4007-a75d-4ba5f5baa971"
      },
      "execution_count": 51,
      "outputs": [
        {
          "output_type": "stream",
          "name": "stdout",
          "text": [
            "Random Data:\n",
            "  Gender  Age  Height  Weight family_history_with_overweight FAVC      FCVC  \\\n",
            "0   Male   33     208      55                             no  yes  0.045868   \n",
            "\n",
            "   NCP    CAEC SMOKE     CH2O SCC  FAF  TUE       CALC                 MTRANS  \n",
            "0    5  Always    no  1.55545  no   14   18  Sometimes  Public_Transportation  \n",
            "\n",
            "Predicted Weight Category: Insufficient_Weight\n"
          ]
        }
      ]
    },
    {
      "cell_type": "markdown",
      "source": [
        "The selected model is  XGBoost classifier,it is basically an implementation of gradient boosting.\n",
        "\n",
        "\n",
        "XGBoost is a powerful and flexible algorithm for supervised learning tasks, particularly suitable for classification and regression problems with structured data. It combines gradient boosting with various optimization techniques to achieve high performance and robustness.\n",
        "\n",
        "\n",
        "\n",
        "And also the robustness of the model is very high,so beacuse of all of these ,have used XGBoost classifier."
      ],
      "metadata": {
        "id": "2Z0k6TlpJGPJ"
      }
    }
  ]
}